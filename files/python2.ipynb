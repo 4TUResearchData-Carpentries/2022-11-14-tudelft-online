{
 "cells": [
  {
   "cell_type": "markdown",
   "id": "0cb46d48-c651-4376-93f7-ac9a6166fc01",
   "metadata": {},
   "source": [
    "# Python Day 2\n",
    "\n",
    "- recap \n",
    "- conditionals\n",
    "- functions\n",
    "\n",
    "Shift + Enter - run cell and move to next\n",
    "Ctrl + Enter - run cell and stay in cell"
   ]
  },
  {
   "cell_type": "code",
   "execution_count": 1,
   "id": "28816979-c959-4655-9515-3a0d57f018d7",
   "metadata": {},
   "outputs": [],
   "source": [
    "name = \"Raphaela\" # string\n",
    "age = 31 # integer\n",
    "height = 160.5 # float"
   ]
  },
  {
   "cell_type": "code",
   "execution_count": 4,
   "id": "983ba3a1-374e-4e4a-ad43-6e1069276a97",
   "metadata": {},
   "outputs": [
    {
     "name": "stdout",
     "output_type": "stream",
     "text": [
      "['garlic', 'onions', 'cheese']\n"
     ]
    }
   ],
   "source": [
    "shopping_list = [\"garlic\", \"onions\", \"cheese\"]\n",
    "print(shopping_list)"
   ]
  },
  {
   "cell_type": "code",
   "execution_count": 5,
   "id": "4396a352-eb29-4401-82fd-7a8ba62c6ecd",
   "metadata": {},
   "outputs": [
    {
     "name": "stdout",
     "output_type": "stream",
     "text": [
      "['garlic', 'onions', 'cheese', 'joghurt']\n"
     ]
    }
   ],
   "source": [
    "shopping_list.append (\"joghurt\")\n",
    "print(shopping_list)"
   ]
  },
  {
   "cell_type": "code",
   "execution_count": 6,
   "id": "a17aabb0-ae20-4d32-99c9-243947e9146c",
   "metadata": {},
   "outputs": [
    {
     "name": "stdout",
     "output_type": "stream",
     "text": [
      "['onions', 'cheese', 'joghurt']\n"
     ]
    }
   ],
   "source": [
    "shopping_list.pop(0)\n",
    "print(shopping_list)"
   ]
  },
  {
   "cell_type": "code",
   "execution_count": 7,
   "id": "0612c3ce-2f34-4488-bc41-a3a855602172",
   "metadata": {},
   "outputs": [],
   "source": [
    "import numpy # numerical python\n",
    "import matplotlib.pyplot as plt # plotting \n",
    "import glob # file collecting"
   ]
  },
  {
   "cell_type": "code",
   "execution_count": 9,
   "id": "82450e0d-1c82-474f-9620-7e5056664913",
   "metadata": {},
   "outputs": [
    {
     "data": {
      "text/plain": [
       "array([[0., 0., 1., ..., 3., 0., 0.],\n",
       "       [0., 1., 2., ..., 1., 0., 1.],\n",
       "       [0., 1., 1., ..., 2., 1., 1.],\n",
       "       ...,\n",
       "       [0., 1., 1., ..., 1., 1., 1.],\n",
       "       [0., 0., 0., ..., 0., 2., 0.],\n",
       "       [0., 0., 1., ..., 1., 1., 0.]])"
      ]
     },
     "execution_count": 9,
     "metadata": {},
     "output_type": "execute_result"
    }
   ],
   "source": [
    "data = numpy.loadtxt(\"data/inflammation-01.csv\", delimiter=\",\")\n",
    "data"
   ]
  },
  {
   "cell_type": "code",
   "execution_count": 10,
   "id": "cc0ee4e6-d6c2-4a62-b111-efc88159b946",
   "metadata": {},
   "outputs": [
    {
     "name": "stdout",
     "output_type": "stream",
     "text": [
      "6.14875\n",
      "[0. 0. 0. 0. 1. 1. 1. 1. 2. 2. 2. 2. 3. 3. 3. 3. 4. 5. 5. 5. 5. 4. 4. 4.\n",
      " 4. 3. 3. 3. 3. 2. 2. 2. 2. 1. 1. 1. 1. 0. 0. 0.]\n"
     ]
    }
   ],
   "source": [
    "print(numpy.mean(data))\n",
    "print(numpy.min(data, axis=0))"
   ]
  },
  {
   "cell_type": "code",
   "execution_count": 11,
   "id": "20d32f2e-55d5-465c-9900-bb0ba6933bf1",
   "metadata": {},
   "outputs": [
    {
     "data": {
      "text/plain": [
       "array([ 0.,  0.,  1.,  3.,  1.,  2.,  4.,  7.,  8.,  3.,  3.,  3., 10.,\n",
       "        5.,  7.,  4.,  7.,  7., 12., 18.,  6., 13., 11., 11.,  7.,  7.,\n",
       "        4.,  6.,  8.,  8.,  4.,  4.,  5.,  7.,  3.,  4.,  2.,  3.,  0.,\n",
       "        0.])"
      ]
     },
     "execution_count": 11,
     "metadata": {},
     "output_type": "execute_result"
    }
   ],
   "source": [
    "data[0,:]"
   ]
  },
  {
   "cell_type": "code",
   "execution_count": 12,
   "id": "fef9f9f4-0d21-4e1d-a062-d99391e980ee",
   "metadata": {},
   "outputs": [
    {
     "data": {
      "text/plain": [
       "'ha'"
      ]
     },
     "execution_count": 12,
     "metadata": {},
     "output_type": "execute_result"
    }
   ],
   "source": [
    "name[3:5]"
   ]
  },
  {
   "cell_type": "code",
   "execution_count": 13,
   "id": "4d4675d0-a421-4825-9f1d-416d82f40d27",
   "metadata": {},
   "outputs": [
    {
     "data": {
      "text/plain": [
       "['onions', 'cheese', 'joghurt']"
      ]
     },
     "execution_count": 13,
     "metadata": {},
     "output_type": "execute_result"
    }
   ],
   "source": [
    "shopping_list"
   ]
  },
  {
   "cell_type": "code",
   "execution_count": 14,
   "id": "154f3091-4ff1-4b6d-9e87-50f4914c9e79",
   "metadata": {},
   "outputs": [
    {
     "name": "stdout",
     "output_type": "stream",
     "text": [
      "onions\n",
      "cheese\n",
      "joghurt\n"
     ]
    }
   ],
   "source": [
    "for ingredient in shopping_list:\n",
    "    print(ingredient)"
   ]
  },
  {
   "cell_type": "markdown",
   "id": "6448acfa-429c-4ac6-95b3-350683ecb5cf",
   "metadata": {},
   "source": [
    "## Conditionals"
   ]
  },
  {
   "cell_type": "code",
   "execution_count": 15,
   "id": "39e3c2da-c7dc-47ef-991d-66c114526b7a",
   "metadata": {},
   "outputs": [
    {
     "name": "stdout",
     "output_type": "stream",
     "text": [
      "not greater\n",
      "done\n"
     ]
    }
   ],
   "source": [
    "num = 37\n",
    "if num > 100:\n",
    "    print(\"greater\")\n",
    "else:\n",
    "    print(\"not greater\")\n",
    "print(\"done\")"
   ]
  },
  {
   "cell_type": "code",
   "execution_count": 17,
   "id": "4d343da9-893e-4033-ada7-86f708009e84",
   "metadata": {},
   "outputs": [
    {
     "name": "stdout",
     "output_type": "stream",
     "text": [
      "before\n",
      "after\n"
     ]
    }
   ],
   "source": [
    "num = 53\n",
    "print(\"before\")\n",
    "if num > 100:\n",
    "    print(\"greater\")\n",
    "print(\"after\")"
   ]
  },
  {
   "cell_type": "code",
   "execution_count": 20,
   "id": "df215cdf-9998-4636-8e7e-90d437262f6f",
   "metadata": {},
   "outputs": [
    {
     "name": "stdout",
     "output_type": "stream",
     "text": [
      "0 is zero\n"
     ]
    }
   ],
   "source": [
    "num = 0 \n",
    "if num > 0:\n",
    "    print(num , \"is positive\")\n",
    "elif num == 0:\n",
    "    print(num, \"is zero\")\n",
    "else:\n",
    "    print(num, \"is negative\")"
   ]
  },
  {
   "cell_type": "raw",
   "id": "89aa3f6e-0f8b-4aac-988f-5b5acc40c4b8",
   "metadata": {},
   "source": [
    "- > greater than\n",
    "- < less than\n",
    "- == equal\n",
    "- != not equal\n",
    "- >= greater than or equal\n",
    "- <= less than or equal"
   ]
  },
  {
   "cell_type": "code",
   "execution_count": 21,
   "id": "c81602f0-63d7-4123-93ce-a6e630a4bbac",
   "metadata": {},
   "outputs": [
    {
     "name": "stdout",
     "output_type": "stream",
     "text": [
      "between 0 and 6\n"
     ]
    }
   ],
   "source": [
    "num = 3\n",
    "if num > 0 and num < 6:\n",
    "    print(\"between 0 and 6\")\n",
    "else:\n",
    "    print(\"outside 0 and 6\")"
   ]
  },
  {
   "cell_type": "code",
   "execution_count": 23,
   "id": "e9e6099c-2a46-4a04-ba2c-cd0d9787c6dd",
   "metadata": {},
   "outputs": [
    {
     "name": "stdout",
     "output_type": "stream",
     "text": [
      "at least one condition is true\n"
     ]
    }
   ],
   "source": [
    "if (1 < 0) or (1 >= 0):\n",
    "    print(\"at least one condition is true\")"
   ]
  },
  {
   "cell_type": "code",
   "execution_count": 25,
   "id": "c14b1531-f082-48eb-b577-8b72217e7003",
   "metadata": {},
   "outputs": [],
   "source": [
    "a = True # booleans\n",
    "b = False"
   ]
  },
  {
   "cell_type": "code",
   "execution_count": 26,
   "id": "6cdade33-2ad4-4bc9-a2b6-ea49f25cc15c",
   "metadata": {},
   "outputs": [
    {
     "name": "stdout",
     "output_type": "stream",
     "text": [
      "a is true\n"
     ]
    }
   ],
   "source": [
    "if a:\n",
    "    print(\"a is true\")"
   ]
  },
  {
   "cell_type": "code",
   "execution_count": 27,
   "id": "f599fc8c-7e0f-49e2-a666-3ce34fb6ee0a",
   "metadata": {},
   "outputs": [
    {
     "name": "stdout",
     "output_type": "stream",
     "text": [
      "non-empty string is true\n",
      "non-empty list is true\n",
      "one is true\n"
     ]
    }
   ],
   "source": [
    "if \"\":\n",
    "    print(\"empty string is true\")\n",
    "if \"word\":\n",
    "    print(\"non-empty string is true\")\n",
    "if []:\n",
    "    print(\"empty list is true\")\n",
    "if [1,2,3]:\n",
    "    print(\"non-empty list is true\")\n",
    "if 0:\n",
    "    print(\"zero is true\")\n",
    "if 1:\n",
    "    print(\"one is true\")"
   ]
  },
  {
   "cell_type": "code",
   "execution_count": 28,
   "id": "5737bacf-7c27-4646-bd8e-a63826ddc639",
   "metadata": {},
   "outputs": [
    {
     "name": "stdout",
     "output_type": "stream",
     "text": [
      "empty string is not true\n"
     ]
    }
   ],
   "source": [
    "if not \"\":\n",
    "    print(\"empty string is not true\")"
   ]
  },
  {
   "cell_type": "code",
   "execution_count": 32,
   "id": "58cbec2e-de55-43eb-9c0c-c6889cd6769a",
   "metadata": {},
   "outputs": [
    {
     "name": "stdout",
     "output_type": "stream",
     "text": [
      "True\n"
     ]
    }
   ],
   "source": [
    "if True | False:\n",
    "    print(\"True\") "
   ]
  },
  {
   "cell_type": "code",
   "execution_count": 33,
   "id": "5ee6d6af-1dbd-47a6-9249-4b12c924aa75",
   "metadata": {},
   "outputs": [
    {
     "name": "stdout",
     "output_type": "stream",
     "text": [
      "something\n",
      "something else\n"
     ]
    }
   ],
   "source": [
    "num = 3\n",
    "if num != 5:\n",
    "    print(\"something\")\n",
    "if not num == 5:\n",
    "    print(\"something else\")"
   ]
  },
  {
   "cell_type": "code",
   "execution_count": 34,
   "id": "729e3da8-7269-4021-8ac8-3b385b1d33e7",
   "metadata": {},
   "outputs": [
    {
     "name": "stdout",
     "output_type": "stream",
     "text": [
      "3 is in numbers\n"
     ]
    }
   ],
   "source": [
    "numbers = [1,2,3,4]\n",
    "if 3 in numbers:\n",
    "    print(\"3 is in numbers\")"
   ]
  },
  {
   "cell_type": "code",
   "execution_count": 35,
   "id": "8570fa7f-d199-45be-9e75-f5a3d62599f6",
   "metadata": {},
   "outputs": [],
   "source": [
    "if 10 in numbers:\n",
    "    print(\"10 is in numbers\")"
   ]
  },
  {
   "cell_type": "code",
   "execution_count": 36,
   "id": "d663b58a-85ea-4f10-a895-159bd78fee7c",
   "metadata": {},
   "outputs": [],
   "source": [
    "filenames =['inflammation-01.csv', 'myscript.py','inflammation-02.csv','small-01.csv','small-02.csv']"
   ]
  },
  {
   "cell_type": "code",
   "execution_count": 37,
   "id": "15a6452b-90ba-4981-ab7b-61cfab2c5606",
   "metadata": {},
   "outputs": [
    {
     "name": "stdout",
     "output_type": "stream",
     "text": [
      "large ['inflammation-01.csv', 'inflammation-02.csv']\n",
      "small ['small-01.csv', 'small-02.csv']\n",
      "other ['myscript.py']\n"
     ]
    }
   ],
   "source": [
    "large_files = []\n",
    "small_files = []\n",
    "other_files = []\n",
    "for filename in filenames:\n",
    "    if filename.startswith(\"inflammation\"):\n",
    "        large_files.append(filename)\n",
    "    elif filename.startswith(\"small\"):\n",
    "        small_files.append(filename)\n",
    "    else:\n",
    "        other_files.append(filename)\n",
    "print(\"large\", large_files)\n",
    "print(\"small\", small_files)\n",
    "print(\"other\", other_files)"
   ]
  },
  {
   "cell_type": "code",
   "execution_count": 38,
   "id": "14521b28-ab29-413d-9405-5cd5c9983e78",
   "metadata": {},
   "outputs": [
    {
     "name": "stdout",
     "output_type": "stream",
     "text": [
      "0\n",
      "1\n",
      "2\n",
      "3\n",
      "4\n"
     ]
    }
   ],
   "source": [
    "for value in range(10):\n",
    "    if value < 5:\n",
    "        print(value)        "
   ]
  },
  {
   "cell_type": "markdown",
   "id": "a8242c2e-5458-41ff-9cb7-d341f5ee96fa",
   "metadata": {},
   "source": [
    "## Functions"
   ]
  },
  {
   "cell_type": "code",
   "execution_count": 39,
   "id": "bab71b0f-c44b-4049-9b52-4b98730f3eec",
   "metadata": {},
   "outputs": [],
   "source": [
    "def fahr_to_celsius(temp):\n",
    "    return ((temp -32) * (5/9))"
   ]
  },
  {
   "cell_type": "code",
   "execution_count": 40,
   "id": "f34287f2-a3da-485c-86c2-c7800427550f",
   "metadata": {},
   "outputs": [
    {
     "data": {
      "text/plain": [
       "0.0"
      ]
     },
     "execution_count": 40,
     "metadata": {},
     "output_type": "execute_result"
    }
   ],
   "source": [
    "fahr_to_celsius(32)"
   ]
  },
  {
   "cell_type": "code",
   "execution_count": 41,
   "id": "2cd5ab18-24b9-44cf-8980-71a052b869f9",
   "metadata": {},
   "outputs": [
    {
     "name": "stdout",
     "output_type": "stream",
     "text": [
      "boiling point of water 100.0 C\n"
     ]
    }
   ],
   "source": [
    "print(\"boiling point of water\", fahr_to_celsius(212), \"C\")"
   ]
  },
  {
   "cell_type": "code",
   "execution_count": 42,
   "id": "da428a16-46b5-451a-a5ff-e7ce713cdf1a",
   "metadata": {},
   "outputs": [
    {
     "name": "stdout",
     "output_type": "stream",
     "text": [
      "freezing point of water in Kelvin: 273.15\n"
     ]
    }
   ],
   "source": [
    "def celsius_to_kelvin(temp_c):\n",
    "    return temp_c + 273.15\n",
    "\n",
    "print(\"freezing point of water in Kelvin:\", celsius_to_kelvin(0))"
   ]
  },
  {
   "cell_type": "code",
   "execution_count": 43,
   "id": "2726e17a-032b-44ed-a133-26d9bf4fbf48",
   "metadata": {},
   "outputs": [],
   "source": [
    "def fahr_to_kelvin(temp_f):\n",
    "    temp_c = fahr_to_celsius(temp_f)\n",
    "    temp_k = celsius_to_kelvin(temp_c)\n",
    "    return temp_k"
   ]
  },
  {
   "cell_type": "code",
   "execution_count": 44,
   "id": "9fadfb19-86bc-4a5f-af22-3a7908d3fe38",
   "metadata": {},
   "outputs": [
    {
     "name": "stdout",
     "output_type": "stream",
     "text": [
      "373.15\n"
     ]
    }
   ],
   "source": [
    "print(fahr_to_kelvin(212.0))"
   ]
  },
  {
   "cell_type": "code",
   "execution_count": 45,
   "id": "36a35123-0507-4f2f-b010-2a148ffa04ef",
   "metadata": {},
   "outputs": [],
   "source": [
    "def fahr_to_kelvin(temp_f):\n",
    "    temp_c = fahr_to_celsius(temp_f)\n",
    "    temp_k = celsius_to_kelvin(temp_c)\n",
    "    return temp_k, temp_c"
   ]
  },
  {
   "cell_type": "code",
   "execution_count": 47,
   "id": "87724903-c1fa-47a5-af3c-86f8b008ac6a",
   "metadata": {},
   "outputs": [],
   "source": [
    "result = fahr_to_kelvin(212)"
   ]
  },
  {
   "cell_type": "code",
   "execution_count": 48,
   "id": "eee6f4e4-b438-4a68-b973-1da60e14a53f",
   "metadata": {},
   "outputs": [
    {
     "data": {
      "text/plain": [
       "373.15"
      ]
     },
     "execution_count": 48,
     "metadata": {},
     "output_type": "execute_result"
    }
   ],
   "source": [
    "result[0]"
   ]
  },
  {
   "cell_type": "code",
   "execution_count": 49,
   "id": "c49df7bb-288b-481c-949b-8fb4646b6c4d",
   "metadata": {},
   "outputs": [
    {
     "data": {
      "text/plain": [
       "100.0"
      ]
     },
     "execution_count": 49,
     "metadata": {},
     "output_type": "execute_result"
    }
   ],
   "source": [
    "result[1]"
   ]
  },
  {
   "cell_type": "code",
   "execution_count": 51,
   "id": "56b57ce5-294d-46ad-a672-22f12be8d425",
   "metadata": {},
   "outputs": [],
   "source": [
    "a, b = fahr_to_kelvin(212) "
   ]
  },
  {
   "cell_type": "code",
   "execution_count": 52,
   "id": "6b891dde-aa09-488b-b25e-a41d71381078",
   "metadata": {},
   "outputs": [
    {
     "name": "stdout",
     "output_type": "stream",
     "text": [
      "373.15 100.0\n"
     ]
    }
   ],
   "source": [
    "print(a, b)"
   ]
  },
  {
   "cell_type": "code",
   "execution_count": 53,
   "id": "4eacb7ff-4542-42fb-9ee3-4f30ab7674e4",
   "metadata": {},
   "outputs": [
    {
     "name": "stdout",
     "output_type": "stream",
     "text": [
      "*name*\n"
     ]
    }
   ],
   "source": [
    "def fence(original, wrapper):\n",
    "    return wrapper + original + wrapper\n",
    "\n",
    "print(fence(\"name\", \"*\"))"
   ]
  },
  {
   "cell_type": "code",
   "execution_count": 54,
   "id": "1fe7eb11-a8fa-4152-b686-7df8fb988dc8",
   "metadata": {},
   "outputs": [
    {
     "name": "stdout",
     "output_type": "stream",
     "text": [
      "10\n",
      "None\n"
     ]
    }
   ],
   "source": [
    "def add(a,b):\n",
    "    print(a + b)\n",
    "\n",
    "A = add(7,3)\n",
    "print(A)"
   ]
  },
  {
   "cell_type": "code",
   "execution_count": 55,
   "id": "30ef6a85-bb4e-46ea-b13e-d021236445a5",
   "metadata": {},
   "outputs": [
    {
     "data": {
      "text/plain": [
       "array([[0., 0., 1., ..., 3., 0., 0.],\n",
       "       [0., 1., 2., ..., 1., 0., 1.],\n",
       "       [0., 1., 1., ..., 2., 1., 1.],\n",
       "       ...,\n",
       "       [0., 1., 1., ..., 1., 1., 1.],\n",
       "       [0., 0., 0., ..., 0., 2., 0.],\n",
       "       [0., 0., 1., ..., 1., 1., 0.]])"
      ]
     },
     "execution_count": 55,
     "metadata": {},
     "output_type": "execute_result"
    }
   ],
   "source": [
    "numpy.loadtxt(\"data/inflammation-01.csv\", delimiter=\",\")"
   ]
  },
  {
   "cell_type": "code",
   "execution_count": 56,
   "id": "5ba475fa-da4e-4181-ade9-964fd7d3ec63",
   "metadata": {},
   "outputs": [
    {
     "ename": "SyntaxError",
     "evalue": "unexpected EOF while parsing (<unknown>, line 1)",
     "output_type": "error",
     "traceback": [
      "Traceback \u001b[0;36m(most recent call last)\u001b[0m:\n",
      "  File \u001b[1;32m\"/home/raphaela/.local/lib/python3.8/site-packages/IPython/core/interactiveshell.py\"\u001b[0m, line \u001b[1;32m3441\u001b[0m, in \u001b[1;35mrun_code\u001b[0m\n    exec(code_obj, self.user_global_ns, self.user_ns)\n",
      "  File \u001b[1;32m\"/tmp/ipykernel_3977159/101455796.py\"\u001b[0m, line \u001b[1;32m1\u001b[0m, in \u001b[1;35m<module>\u001b[0m\n    numpy.loadtxt(\"data/inflammation-01.csv\", \",\")\n",
      "  File \u001b[1;32m\"/home/raphaela/.local/lib/python3.8/site-packages/numpy/lib/npyio.py\"\u001b[0m, line \u001b[1;32m1308\u001b[0m, in \u001b[1;35mloadtxt\u001b[0m\n    arr = _read(fname, dtype=dtype, comment=comment, delimiter=delimiter,\n",
      "  File \u001b[1;32m\"/home/raphaela/.local/lib/python3.8/site-packages/numpy/lib/npyio.py\"\u001b[0m, line \u001b[1;32m880\u001b[0m, in \u001b[1;35m_read\u001b[0m\n    dtype = np.dtype(dtype)\n",
      "  File \u001b[1;32m\"/home/raphaela/.local/lib/python3.8/site-packages/numpy/core/_internal.py\"\u001b[0m, line \u001b[1;32m200\u001b[0m, in \u001b[1;35m_commastring\u001b[0m\n    newitem = (dtype, ast.literal_eval(repeats))\n",
      "  File \u001b[1;32m\"/usr/lib/python3.8/ast.py\"\u001b[0m, line \u001b[1;32m59\u001b[0m, in \u001b[1;35mliteral_eval\u001b[0m\n    node_or_string = parse(node_or_string, mode='eval')\n",
      "\u001b[0;36m  File \u001b[0;32m\"/usr/lib/python3.8/ast.py\"\u001b[0;36m, line \u001b[0;32m47\u001b[0;36m, in \u001b[0;35mparse\u001b[0;36m\u001b[0m\n\u001b[0;31m    return compile(source, filename, mode, flags,\u001b[0m\n",
      "\u001b[0;36m  File \u001b[0;32m\"<unknown>\"\u001b[0;36m, line \u001b[0;32m1\u001b[0m\n\u001b[0;31m    ,\u001b[0m\n\u001b[0m    ^\u001b[0m\n\u001b[0;31mSyntaxError\u001b[0m\u001b[0;31m:\u001b[0m unexpected EOF while parsing\n"
     ]
    }
   ],
   "source": [
    "numpy.loadtxt(\"data/inflammation-01.csv\", \",\")"
   ]
  },
  {
   "cell_type": "code",
   "execution_count": 58,
   "id": "58518eeb-5d39-4d98-962d-6ad5eabc502f",
   "metadata": {},
   "outputs": [],
   "source": [
    "def offset_mean(data, target_mean_value=0.0):\n",
    "    return (data - numpy.mean(data)) + target_mean_value"
   ]
  },
  {
   "cell_type": "code",
   "execution_count": 59,
   "id": "82a7510d-0be9-4ca9-a219-8bd307402e73",
   "metadata": {},
   "outputs": [
    {
     "name": "stdout",
     "output_type": "stream",
     "text": [
      "[[3. 3.]\n",
      " [3. 3.]]\n"
     ]
    }
   ],
   "source": [
    "test_data = numpy.zeros((2,2))\n",
    "print(offset_mean(test_data, 3))"
   ]
  },
  {
   "cell_type": "code",
   "execution_count": 60,
   "id": "b824eb02-1c7e-4980-ba5b-0f947ece5ec2",
   "metadata": {},
   "outputs": [
    {
     "name": "stdout",
     "output_type": "stream",
     "text": [
      "[[0. 0.]\n",
      " [0. 0.]]\n"
     ]
    }
   ],
   "source": [
    "print(offset_mean(test_data))"
   ]
  },
  {
   "cell_type": "code",
   "execution_count": 68,
   "id": "376c4c66-427b-4a9e-a0fd-dd932a46a7e5",
   "metadata": {},
   "outputs": [],
   "source": [
    "def a(b):\n",
    "    \"\"\"\n",
    "    Converts Fahrenheit temperature to Kelvin.\n",
    "    Input should be temp in fahrenheit. \n",
    "    ------\n",
    "    Example:\n",
    "    >>> a(212)\n",
    "    sss\n",
    "    \"\"\"\n",
    "    temp_c = fahr_to_celsius(temp_f)\n",
    "    temp_k = celsius_to_kelvin(temp_k)\n",
    "    return temp_k"
   ]
  },
  {
   "cell_type": "code",
   "execution_count": 69,
   "id": "598cf8cc-0137-4460-8b71-a32c4b63288a",
   "metadata": {},
   "outputs": [
    {
     "name": "stdout",
     "output_type": "stream",
     "text": [
      "Help on function a in module __main__:\n",
      "\n",
      "a(b)\n",
      "    Converts Fahrenheit temperature to Kelvin.\n",
      "    Input should be temp in fahrenheit. \n",
      "    ------\n",
      "    Example:\n",
      "    >>> a(212)\n",
      "    sss\n",
      "\n"
     ]
    }
   ],
   "source": [
    "help(a)"
   ]
  },
  {
   "cell_type": "code",
   "execution_count": 70,
   "id": "39f95a80-97c0-43e8-9b9a-86b5c82e98d0",
   "metadata": {},
   "outputs": [],
   "source": [
    "def outer(input_string):\n",
    "    \"\"\"\n",
    "    Returns the first and last character of the string.\n",
    "    ---\n",
    "    Example:\n",
    "    >>> outer(\"Helium\")\n",
    "    \"Hm\"\n",
    "    \"\"\"\n",
    "    return input_string[0] + input_string[-1]"
   ]
  },
  {
   "cell_type": "code",
   "execution_count": 71,
   "id": "25aedbd0-e36c-44a7-9306-131086b003cd",
   "metadata": {},
   "outputs": [
    {
     "name": "stdout",
     "output_type": "stream",
     "text": [
      "Help on function outer in module __main__:\n",
      "\n",
      "outer(input_string)\n",
      "    Returns the first and last character of the string.\n",
      "    ---\n",
      "    Example:\n",
      "    >>> outer(\"Helium\")\n",
      "    \"Hm\"\n",
      "\n"
     ]
    }
   ],
   "source": [
    "help(outer)"
   ]
  },
  {
   "cell_type": "code",
   "execution_count": 72,
   "id": "4ca97094-1c32-40ef-bba7-4eaf1670e3d9",
   "metadata": {},
   "outputs": [
    {
     "data": {
      "text/plain": [
       "'Hm'"
      ]
     },
     "execution_count": 72,
     "metadata": {},
     "output_type": "execute_result"
    }
   ],
   "source": [
    "outer(\"Helium\")"
   ]
  },
  {
   "cell_type": "code",
   "execution_count": null,
   "id": "277f511c-beb7-41c3-b214-e3b1bf99d62d",
   "metadata": {},
   "outputs": [],
   "source": []
  }
 ],
 "metadata": {
  "kernelspec": {
   "display_name": "Python 3 (ipykernel)",
   "language": "python",
   "name": "python3"
  },
  "language_info": {
   "codemirror_mode": {
    "name": "ipython",
    "version": 3
   },
   "file_extension": ".py",
   "mimetype": "text/x-python",
   "name": "python",
   "nbconvert_exporter": "python",
   "pygments_lexer": "ipython3",
   "version": "3.8.10"
  }
 },
 "nbformat": 4,
 "nbformat_minor": 5
}
