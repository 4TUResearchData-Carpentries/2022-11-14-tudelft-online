{
 "cells": [
  {
   "cell_type": "markdown",
   "id": "6f0a3e12-9120-4ead-a2ba-5ad171ccd740",
   "metadata": {},
   "source": [
    "# Python 1\n",
    "\n",
    "This is the notebook for day 1.\n",
    "\n",
    "Select a cell, press M to switch to markdown, press Y for code. \n",
    "\n",
    "Shift + Enter to run a cell and move to the next one\n",
    "Ctrl + Enter to run a cell and stay in it"
   ]
  },
  {
   "cell_type": "code",
   "execution_count": 1,
   "id": "4cb4c333-1568-432d-affa-310546c0fb3b",
   "metadata": {},
   "outputs": [
    {
     "data": {
      "text/plain": [
       "23"
      ]
     },
     "execution_count": 1,
     "metadata": {},
     "output_type": "execute_result"
    }
   ],
   "source": [
    "3 + 5 * 4 "
   ]
  },
  {
   "cell_type": "code",
   "execution_count": 2,
   "id": "e190a6d9-6624-4338-9d3b-265e4a435981",
   "metadata": {},
   "outputs": [],
   "source": [
    "height_cm = 160 "
   ]
  },
  {
   "cell_type": "code",
   "execution_count": 4,
   "id": "a64bfce9-a880-438d-832c-e40c230cc4d0",
   "metadata": {},
   "outputs": [
    {
     "data": {
      "text/plain": [
       "480"
      ]
     },
     "execution_count": 4,
     "metadata": {},
     "output_type": "execute_result"
    }
   ],
   "source": [
    "3 * height_cm"
   ]
  },
  {
   "cell_type": "code",
   "execution_count": 5,
   "id": "562c7f90-1f5e-4ca7-b643-359fd583100d",
   "metadata": {},
   "outputs": [],
   "source": [
    "height_cm = 180 "
   ]
  },
  {
   "cell_type": "code",
   "execution_count": 6,
   "id": "486925de-7808-496e-b10e-0c293db7accf",
   "metadata": {},
   "outputs": [
    {
     "data": {
      "text/plain": [
       "540"
      ]
     },
     "execution_count": 6,
     "metadata": {},
     "output_type": "execute_result"
    }
   ],
   "source": [
    "3*height_cm"
   ]
  },
  {
   "cell_type": "code",
   "execution_count": 7,
   "id": "e7021042-fe02-4ec5-84cb-8d7e9c442979",
   "metadata": {},
   "outputs": [],
   "source": [
    "height_cm = 160.5"
   ]
  },
  {
   "cell_type": "code",
   "execution_count": 8,
   "id": "85e04be3-adb1-4f92-821f-0ddd39076e52",
   "metadata": {},
   "outputs": [],
   "source": [
    "name = \"Raphaela\""
   ]
  },
  {
   "cell_type": "code",
   "execution_count": 9,
   "id": "d71d9aa3-41a0-4def-937b-077e49fa13ba",
   "metadata": {},
   "outputs": [
    {
     "name": "stdout",
     "output_type": "stream",
     "text": [
      "My name is Raphaela I'm 160.5 cm tall\n"
     ]
    }
   ],
   "source": [
    "print(\"My name is\", name, \"I'm\", height_cm, \"cm tall\")"
   ]
  },
  {
   "cell_type": "code",
   "execution_count": 10,
   "id": "a88658a9-6f54-4223-b498-55434ad038f4",
   "metadata": {},
   "outputs": [
    {
     "data": {
      "text/plain": [
       "str"
      ]
     },
     "execution_count": 10,
     "metadata": {},
     "output_type": "execute_result"
    }
   ],
   "source": [
    "type(name)"
   ]
  },
  {
   "cell_type": "code",
   "execution_count": 11,
   "id": "db268c6d-75ae-4746-8798-a96b43045c13",
   "metadata": {},
   "outputs": [
    {
     "data": {
      "text/plain": [
       "float"
      ]
     },
     "execution_count": 11,
     "metadata": {},
     "output_type": "execute_result"
    }
   ],
   "source": [
    "type(height_cm) "
   ]
  },
  {
   "cell_type": "code",
   "execution_count": 12,
   "id": "1b2ad631-0ccc-48b1-9a18-8f2fe24cff1e",
   "metadata": {},
   "outputs": [
    {
     "name": "stdout",
     "output_type": "stream",
     "text": [
      "height_cm\t name\t \n"
     ]
    }
   ],
   "source": [
    "%who"
   ]
  },
  {
   "cell_type": "code",
   "execution_count": 13,
   "id": "44a97d72-69c4-4d26-bdbe-6a60bfb5163b",
   "metadata": {},
   "outputs": [
    {
     "name": "stdout",
     "output_type": "stream",
     "text": [
      "Variable    Type     Data/Info\n",
      "------------------------------\n",
      "height_cm   float    160.5\n",
      "name        str      Raphaela\n"
     ]
    }
   ],
   "source": [
    "%whos"
   ]
  },
  {
   "cell_type": "code",
   "execution_count": 14,
   "id": "b4c30868-4d99-44bc-8dca-3db935dc0b5a",
   "metadata": {},
   "outputs": [],
   "source": [
    "age = 122"
   ]
  },
  {
   "cell_type": "code",
   "execution_count": 18,
   "id": "1d960643-b83f-4ca3-9d42-b9aa4bdbce6e",
   "metadata": {},
   "outputs": [],
   "source": [
    "mass = 47.5"
   ]
  },
  {
   "cell_type": "code",
   "execution_count": 19,
   "id": "a52bcd7d-5361-4401-9d9c-7135d5c02eae",
   "metadata": {},
   "outputs": [
    {
     "data": {
      "text/plain": [
       "95.0"
      ]
     },
     "execution_count": 19,
     "metadata": {},
     "output_type": "execute_result"
    }
   ],
   "source": [
    "mass * 2"
   ]
  },
  {
   "cell_type": "code",
   "execution_count": 23,
   "id": "10c4bcb0-7b7f-43c3-988f-347de65f1d90",
   "metadata": {},
   "outputs": [
    {
     "name": "stdout",
     "output_type": "stream",
     "text": [
      "95.0\n"
     ]
    }
   ],
   "source": [
    "print(mass) "
   ]
  },
  {
   "cell_type": "code",
   "execution_count": 24,
   "id": "adfad71e-c260-425e-a47c-0c19b219ffb9",
   "metadata": {},
   "outputs": [],
   "source": [
    "mass = mass * 2"
   ]
  },
  {
   "cell_type": "code",
   "execution_count": 25,
   "id": "b5a8f059-954d-4701-ba22-aa26770aa3dd",
   "metadata": {},
   "outputs": [
    {
     "name": "stdout",
     "output_type": "stream",
     "text": [
      "190.0\n"
     ]
    }
   ],
   "source": [
    "print(mass)"
   ]
  },
  {
   "cell_type": "code",
   "execution_count": 26,
   "id": "41cfcdba-c14b-488f-8b33-bb9649664638",
   "metadata": {},
   "outputs": [],
   "source": [
    "import numpy"
   ]
  },
  {
   "cell_type": "code",
   "execution_count": 27,
   "id": "7f6e2d64-dc70-4e68-848d-d163f9c6cb9f",
   "metadata": {},
   "outputs": [
    {
     "data": {
      "text/plain": [
       "array([[0., 0., 1., ..., 3., 0., 0.],\n",
       "       [0., 1., 2., ..., 1., 0., 1.],\n",
       "       [0., 1., 1., ..., 2., 1., 1.],\n",
       "       ...,\n",
       "       [0., 1., 1., ..., 1., 1., 1.],\n",
       "       [0., 0., 0., ..., 0., 2., 0.],\n",
       "       [0., 0., 1., ..., 1., 1., 0.]])"
      ]
     },
     "execution_count": 27,
     "metadata": {},
     "output_type": "execute_result"
    }
   ],
   "source": [
    "numpy.loadtxt(fname=\"data/inflammation-01.csv\", delimiter=\",\")"
   ]
  },
  {
   "cell_type": "code",
   "execution_count": 28,
   "id": "cf7f56b3-3d20-42f2-aabe-085bfb2480f4",
   "metadata": {},
   "outputs": [],
   "source": [
    "data = numpy.loadtxt(\"data/inflammation-01.csv\", delimiter=\",\")"
   ]
  },
  {
   "cell_type": "code",
   "execution_count": 29,
   "id": "e60bfe80-018f-45d1-99d5-15cfe6b1ccae",
   "metadata": {},
   "outputs": [
    {
     "name": "stdout",
     "output_type": "stream",
     "text": [
      "[[0. 0. 1. ... 3. 0. 0.]\n",
      " [0. 1. 2. ... 1. 0. 1.]\n",
      " [0. 1. 1. ... 2. 1. 1.]\n",
      " ...\n",
      " [0. 1. 1. ... 1. 1. 1.]\n",
      " [0. 0. 0. ... 0. 2. 0.]\n",
      " [0. 0. 1. ... 1. 1. 0.]]\n"
     ]
    }
   ],
   "source": [
    "print(data)"
   ]
  },
  {
   "cell_type": "code",
   "execution_count": 30,
   "id": "0a3d458e-1c38-4656-82cf-4855fcc38d13",
   "metadata": {},
   "outputs": [
    {
     "data": {
      "text/plain": [
       "numpy.ndarray"
      ]
     },
     "execution_count": 30,
     "metadata": {},
     "output_type": "execute_result"
    }
   ],
   "source": [
    "type(data)"
   ]
  },
  {
   "cell_type": "code",
   "execution_count": 31,
   "id": "36ab55c0-0b92-4110-91f0-e833d02462ec",
   "metadata": {},
   "outputs": [
    {
     "data": {
      "text/plain": [
       "dtype('float64')"
      ]
     },
     "execution_count": 31,
     "metadata": {},
     "output_type": "execute_result"
    }
   ],
   "source": [
    "data.dtype"
   ]
  },
  {
   "cell_type": "code",
   "execution_count": 32,
   "id": "04f2b6e4-a155-4ed8-be9f-05f33e7a63e0",
   "metadata": {},
   "outputs": [
    {
     "name": "stdout",
     "output_type": "stream",
     "text": [
      "First value is 0.0\n"
     ]
    }
   ],
   "source": [
    "print(\"First value is\", data[0,0]) "
   ]
  },
  {
   "cell_type": "code",
   "execution_count": 33,
   "id": "6dc2c620-7e13-40cf-978d-e09cde357f3d",
   "metadata": {},
   "outputs": [
    {
     "name": "stdout",
     "output_type": "stream",
     "text": [
      "Patient at index 30, day at index 10 2.0\n"
     ]
    }
   ],
   "source": [
    "print(\"Patient at index 30, day at index 10\", data[30,10])"
   ]
  },
  {
   "cell_type": "code",
   "execution_count": 34,
   "id": "27a9ccd0-479a-4c15-bc8f-c1f3f577f9c3",
   "metadata": {},
   "outputs": [
    {
     "name": "stdout",
     "output_type": "stream",
     "text": [
      "[[0. 0. 1. 3. 1. 2. 4. 7. 8. 3.]\n",
      " [0. 1. 2. 1. 2. 1. 3. 2. 2. 6.]\n",
      " [0. 1. 1. 3. 3. 2. 6. 2. 5. 9.]\n",
      " [0. 0. 2. 0. 4. 2. 2. 1. 6. 7.]]\n"
     ]
    }
   ],
   "source": [
    "print(data[0:4, 0:10])"
   ]
  },
  {
   "cell_type": "code",
   "execution_count": 35,
   "id": "61e372ce-cd0b-43df-af2a-6ff560637ef5",
   "metadata": {},
   "outputs": [
    {
     "data": {
      "text/plain": [
       "'R'"
      ]
     },
     "execution_count": 35,
     "metadata": {},
     "output_type": "execute_result"
    }
   ],
   "source": [
    "name = \"Raphaela\" \n",
    "name[0:1]"
   ]
  },
  {
   "cell_type": "code",
   "execution_count": 36,
   "id": "626a6d82-a90d-4d8f-8676-e4fe42d3e03e",
   "metadata": {},
   "outputs": [
    {
     "name": "stdout",
     "output_type": "stream",
     "text": [
      "Rap haela\n"
     ]
    }
   ],
   "source": [
    "print(name[0:3], name[3:])"
   ]
  },
  {
   "cell_type": "code",
   "execution_count": 37,
   "id": "b4d06007-4924-4b2c-9864-3dbed98d25b9",
   "metadata": {},
   "outputs": [
    {
     "data": {
      "text/plain": [
       "array([[0., 0., 1., ..., 3., 0., 0.],\n",
       "       [0., 1., 2., ..., 1., 0., 1.],\n",
       "       [0., 1., 1., ..., 2., 1., 1.],\n",
       "       ...,\n",
       "       [0., 1., 1., ..., 1., 1., 1.],\n",
       "       [0., 0., 0., ..., 0., 2., 0.],\n",
       "       [0., 0., 1., ..., 1., 1., 0.]])"
      ]
     },
     "execution_count": 37,
     "metadata": {},
     "output_type": "execute_result"
    }
   ],
   "source": [
    "data"
   ]
  },
  {
   "cell_type": "code",
   "execution_count": 38,
   "id": "06be7e36-68e6-4a98-92f8-f894fdd1eabb",
   "metadata": {},
   "outputs": [
    {
     "data": {
      "text/plain": [
       "6.14875"
      ]
     },
     "execution_count": 38,
     "metadata": {},
     "output_type": "execute_result"
    }
   ],
   "source": [
    "numpy.mean(data) # mean"
   ]
  },
  {
   "cell_type": "code",
   "execution_count": 39,
   "id": "02ae8e66-a6f9-4534-9c21-d396e3775497",
   "metadata": {},
   "outputs": [
    {
     "data": {
      "text/plain": [
       "0.0"
      ]
     },
     "execution_count": 39,
     "metadata": {},
     "output_type": "execute_result"
    }
   ],
   "source": [
    "numpy.min(data) # minimum  "
   ]
  },
  {
   "cell_type": "code",
   "execution_count": 40,
   "id": "e406b95b-18c5-4f3c-a866-0fc59fe387db",
   "metadata": {},
   "outputs": [
    {
     "data": {
      "text/plain": [
       "20.0"
      ]
     },
     "execution_count": 40,
     "metadata": {},
     "output_type": "execute_result"
    }
   ],
   "source": [
    "numpy.max(data)# maximum"
   ]
  },
  {
   "cell_type": "code",
   "execution_count": 41,
   "id": "6a8cf871-9871-4789-ad6c-7c9ad947d7ac",
   "metadata": {},
   "outputs": [
    {
     "data": {
      "text/plain": [
       "4.613833197118566"
      ]
     },
     "execution_count": 41,
     "metadata": {},
     "output_type": "execute_result"
    }
   ],
   "source": [
    "numpy.std(data) # standard deviation"
   ]
  },
  {
   "cell_type": "code",
   "execution_count": 42,
   "id": "59f726c0-41b7-4dde-9bd6-a5e25eab5be1",
   "metadata": {},
   "outputs": [
    {
     "name": "stdout",
     "output_type": "stream",
     "text": [
      "Mean for patient 1 5.45\n"
     ]
    }
   ],
   "source": [
    "print(\"Mean for patient 1\", numpy.mean(data[0, :]))"
   ]
  },
  {
   "cell_type": "code",
   "execution_count": 43,
   "id": "b1b99ec9-9826-4dc6-99cb-397f82c68049",
   "metadata": {},
   "outputs": [
    {
     "name": "stdout",
     "output_type": "stream",
     "text": [
      "Mean for patient 2 5.425\n"
     ]
    }
   ],
   "source": [
    "print(\"Mean for patient 2\", numpy.mean(data[1, :]))"
   ]
  },
  {
   "cell_type": "code",
   "execution_count": 44,
   "id": "c6cfcb3a-7b1d-4518-89e8-b63c2d7c55d6",
   "metadata": {},
   "outputs": [
    {
     "data": {
      "text/plain": [
       "array([18., 18., 19., 17., 17., 18., 17., 20., 17., 18., 18., 18., 17.,\n",
       "       16., 17., 18., 19., 19., 17., 19., 19., 16., 17., 15., 17., 17.,\n",
       "       18., 17., 20., 17., 16., 19., 15., 15., 19., 17., 16., 17., 19.,\n",
       "       16., 18., 19., 16., 19., 18., 16., 19., 15., 16., 18., 14., 20.,\n",
       "       17., 15., 17., 16., 17., 19., 18., 18.])"
      ]
     },
     "execution_count": 44,
     "metadata": {},
     "output_type": "execute_result"
    }
   ],
   "source": [
    "numpy.max(data, axis=1)"
   ]
  },
  {
   "cell_type": "code",
   "execution_count": 45,
   "id": "ac1cc94b-c627-4eed-ba87-e49b4bd56afb",
   "metadata": {},
   "outputs": [
    {
     "data": {
      "text/plain": [
       "(60, 40)"
      ]
     },
     "execution_count": 45,
     "metadata": {},
     "output_type": "execute_result"
    }
   ],
   "source": [
    "data.shape"
   ]
  },
  {
   "cell_type": "code",
   "execution_count": 46,
   "id": "a6516272-e1ce-4018-85ee-ce244a85bc88",
   "metadata": {},
   "outputs": [],
   "source": [
    "demo = numpy.array([[1,2],[3,4]])"
   ]
  },
  {
   "cell_type": "code",
   "execution_count": 47,
   "id": "c9c8a4f6-13e5-47f3-aa9a-fdfaf5db6696",
   "metadata": {},
   "outputs": [
    {
     "data": {
      "text/plain": [
       "array([[1, 2],\n",
       "       [3, 4]])"
      ]
     },
     "execution_count": 47,
     "metadata": {},
     "output_type": "execute_result"
    }
   ],
   "source": [
    "demo"
   ]
  },
  {
   "cell_type": "code",
   "execution_count": 51,
   "id": "9ebd15c1-e56d-4573-9b60-5d1f2c719ccc",
   "metadata": {},
   "outputs": [],
   "source": [
    "import matplotlib.pyplot as plt"
   ]
  },
  {
   "cell_type": "code",
   "execution_count": 52,
   "id": "ae1d2cf7-7678-4c62-b675-24218575af1b",
   "metadata": {},
   "outputs": [
    {
     "data": {
      "image/png": "[encoded data removed]",
      "text/plain": [
       "<Figure size 432x288 with 1 Axes>"
      ]
     },
     "metadata": {
      "needs_background": "light"
     },
     "output_type": "display_data"
    }
   ],
   "source": [
    "plt.imshow(data)\n",
    "plt.show()"
   ]
  },
  {
   "cell_type": "code",
   "execution_count": 53,
   "id": "d715476a-29ce-43fe-b368-87876df41648",
   "metadata": {},
   "outputs": [
    {
     "data": {
      "text/plain": [
       "[<matplotlib.lines.Line2D at 0x7fb7a7f6c610>]"
      ]
     },
     "execution_count": 53,
     "metadata": {},
     "output_type": "execute_result"
    },
    {
     "data": {
      "image/png": "[encoded data removed]",
      "text/plain": [
       "<Figure size 432x288 with 1 Axes>"
      ]
     },
     "metadata": {
      "needs_background": "light"
     },
     "output_type": "display_data"
    }
   ],
   "source": [
    "average_inflammation = numpy.mean(data, axis=0)\n",
    "plt.plot(average_inflammation)"
   ]
  },
  {
   "cell_type": "code",
   "execution_count": 54,
   "id": "1bb71343-dea3-44bf-980c-4aa0f2525305",
   "metadata": {},
   "outputs": [
    {
     "data": {
      "text/plain": [
       "[<matplotlib.lines.Line2D at 0x7fb7a3921fd0>]"
      ]
     },
     "execution_count": 54,
     "metadata": {},
     "output_type": "execute_result"
    },
    {
     "data": {
      "image/png": "[encoded data removed]",
      "text/plain": [
       "<Figure size 432x288 with 1 Axes>"
      ]
     },
     "metadata": {
      "needs_background": "light"
     },
     "output_type": "display_data"
    }
   ],
   "source": [
    "min_inflammation = numpy.min(data, axis=0)\n",
    "plt.plot(min_inflammation)"
   ]
  },
  {
   "cell_type": "code",
   "execution_count": 55,
   "id": "35d7264c-89cd-4ce8-9619-9d2ab2fdf5aa",
   "metadata": {},
   "outputs": [
    {
     "data": {
      "text/plain": [
       "[<matplotlib.lines.Line2D at 0x7fb7a39fb160>]"
      ]
     },
     "execution_count": 55,
     "metadata": {},
     "output_type": "execute_result"
    },
    {
     "data": {
      "image/png": "[encoded data removed]",
      "text/plain": [
       "<Figure size 432x288 with 1 Axes>"
      ]
     },
     "metadata": {
      "needs_background": "light"
     },
     "output_type": "display_data"
    }
   ],
   "source": [
    "plt.plot(numpy.max(data, axis=0))"
   ]
  },
  {
   "cell_type": "code",
   "execution_count": 57,
   "id": "16de89e0-e172-4aa7-ac27-bf9c5aa8b717",
   "metadata": {},
   "outputs": [
    {
     "data": {
      "image/png": "[encoded data removed]",
      "text/plain": [
       "<Figure size 720x216 with 3 Axes>"
      ]
     },
     "metadata": {
      "needs_background": "light"
     },
     "output_type": "display_data"
    }
   ],
   "source": [
    "fig = plt.figure(figsize=(10.0,3.0))\n",
    "\n",
    "axes1 = fig.add_subplot(1, 3, 1)\n",
    "axes2 = fig.add_subplot(1, 3, 2)\n",
    "axes3 = fig.add_subplot(1, 3, 3)\n",
    "\n",
    "axes1.plot(numpy.mean(data, axis=0))\n",
    "axes1.set_ylabel(\"average\")\n",
    "\n",
    "axes2.plot(numpy.min(data, axis=0))\n",
    "axes2.set_ylabel(\"minimum\")\n",
    "\n",
    "axes3.plot(numpy.max(data, axis=0))\n",
    "axes3.set_ylabel(\"maximum\")\n",
    "\n",
    "fig.tight_layout()\n",
    "plt.savefig(\"inflammation_summary.png\")"
   ]
  },
  {
   "cell_type": "code",
   "execution_count": 58,
   "id": "d511f346-d1b4-4fe1-8c6a-c1c3284bc4bc",
   "metadata": {},
   "outputs": [
    {
     "name": "stdout",
     "output_type": "stream",
     "text": [
      "Help on function savefig in module matplotlib.pyplot:\n",
      "\n",
      "savefig(*args, **kwargs)\n",
      "    Save the current figure.\n",
      "    \n",
      "    Call signature::\n",
      "    \n",
      "      savefig(fname, dpi=None, facecolor='w', edgecolor='w',\n",
      "              orientation='portrait', papertype=None, format=None,\n",
      "              transparent=False, bbox_inches=None, pad_inches=0.1,\n",
      "              frameon=None, metadata=None)\n",
      "    \n",
      "    The available output formats depend on the backend being used.\n",
      "    \n",
      "    Parameters\n",
      "    ----------\n",
      "    fname : str or path-like or binary file-like\n",
      "        A path, or a Python file-like object, or\n",
      "        possibly some backend-dependent object such as\n",
      "        `matplotlib.backends.backend_pdf.PdfPages`.\n",
      "    \n",
      "        If *format* is set, it determines the output format, and the file\n",
      "        is saved as *fname*.  Note that *fname* is used verbatim, and there\n",
      "        is no attempt to make the extension, if any, of *fname* match\n",
      "        *format*, and no extension is appended.\n",
      "    \n",
      "        If *format* is not set, then the format is inferred from the\n",
      "        extension of *fname*, if there is one.  If *format* is not\n",
      "        set and *fname* has no extension, then the file is saved with\n",
      "        :rc:`savefig.format` and the appropriate extension is appended to\n",
      "        *fname*.\n",
      "    \n",
      "    Other Parameters\n",
      "    ----------------\n",
      "    dpi : float or 'figure', default: :rc:`savefig.dpi`\n",
      "        The resolution in dots per inch.  If 'figure', use the figure's\n",
      "        dpi value.\n",
      "    \n",
      "    quality : int, default: :rc:`savefig.jpeg_quality`\n",
      "        Applicable only if *format* is 'jpg' or 'jpeg', ignored otherwise.\n",
      "    \n",
      "        The image quality, on a scale from 1 (worst) to 95 (best).\n",
      "        Values above 95 should be avoided; 100 disables portions of\n",
      "        the JPEG compression algorithm, and results in large files\n",
      "        with hardly any gain in image quality.\n",
      "    \n",
      "        This parameter is deprecated.\n",
      "    \n",
      "    optimize : bool, default: False\n",
      "        Applicable only if *format* is 'jpg' or 'jpeg', ignored otherwise.\n",
      "    \n",
      "        Whether the encoder should make an extra pass over the image\n",
      "        in order to select optimal encoder settings.\n",
      "    \n",
      "        This parameter is deprecated.\n",
      "    \n",
      "    progressive : bool, default: False\n",
      "        Applicable only if *format* is 'jpg' or 'jpeg', ignored otherwise.\n",
      "    \n",
      "        Whether the image should be stored as a progressive JPEG file.\n",
      "    \n",
      "        This parameter is deprecated.\n",
      "    \n",
      "    facecolor : color or 'auto', default: :rc:`savefig.facecolor`\n",
      "        The facecolor of the figure.  If 'auto', use the current figure\n",
      "        facecolor.\n",
      "    \n",
      "    edgecolor : color or 'auto', default: :rc:`savefig.edgecolor`\n",
      "        The edgecolor of the figure.  If 'auto', use the current figure\n",
      "        edgecolor.\n",
      "    \n",
      "    orientation : {'landscape', 'portrait'}\n",
      "        Currently only supported by the postscript backend.\n",
      "    \n",
      "    papertype : str\n",
      "        One of 'letter', 'legal', 'executive', 'ledger', 'a0' through\n",
      "        'a10', 'b0' through 'b10'. Only supported for postscript\n",
      "        output.\n",
      "    \n",
      "    format : str\n",
      "        The file format, e.g. 'png', 'pdf', 'svg', ... The behavior when\n",
      "        this is unset is documented under *fname*.\n",
      "    \n",
      "    transparent : bool\n",
      "        If *True*, the Axes patches will all be transparent; the\n",
      "        figure patch will also be transparent unless facecolor\n",
      "        and/or edgecolor are specified via kwargs.\n",
      "        This is useful, for example, for displaying\n",
      "        a plot on top of a colored background on a web page.  The\n",
      "        transparency of these patches will be restored to their\n",
      "        original values upon exit of this function.\n",
      "    \n",
      "    bbox_inches : str or `.Bbox`, default: :rc:`savefig.bbox`\n",
      "        Bounding box in inches: only the given portion of the figure is\n",
      "        saved.  If 'tight', try to figure out the tight bbox of the figure.\n",
      "    \n",
      "    pad_inches : float, default: :rc:`savefig.pad_inches`\n",
      "        Amount of padding around the figure when bbox_inches is 'tight'.\n",
      "    \n",
      "    bbox_extra_artists : list of `~matplotlib.artist.Artist`, optional\n",
      "        A list of extra artists that will be considered when the\n",
      "        tight bbox is calculated.\n",
      "    \n",
      "    backend : str, optional\n",
      "        Use a non-default backend to render the file, e.g. to render a\n",
      "        png file with the \"cairo\" backend rather than the default \"agg\",\n",
      "        or a pdf file with the \"pgf\" backend rather than the default\n",
      "        \"pdf\".  Note that the default backend is normally sufficient.  See\n",
      "        :ref:`the-builtin-backends` for a list of valid backends for each\n",
      "        file format.  Custom backends can be referenced as \"module://...\".\n",
      "    \n",
      "    metadata : dict, optional\n",
      "        Key/value pairs to store in the image metadata. The supported keys\n",
      "        and defaults depend on the image format and backend:\n",
      "    \n",
      "        - 'png' with Agg backend: See the parameter ``metadata`` of\n",
      "          `~.FigureCanvasAgg.print_png`.\n",
      "        - 'pdf' with pdf backend: See the parameter ``metadata`` of\n",
      "          `~.backend_pdf.PdfPages`.\n",
      "        - 'svg' with svg backend: See the parameter ``metadata`` of\n",
      "          `~.FigureCanvasSVG.print_svg`.\n",
      "        - 'eps' and 'ps' with PS backend: Only 'Creator' is supported.\n",
      "    \n",
      "    pil_kwargs : dict, optional\n",
      "        Additional keyword arguments that are passed to\n",
      "        `PIL.Image.Image.save` when saving the figure.\n",
      "\n"
     ]
    }
   ],
   "source": [
    "help(plt.savefig)"
   ]
  },
  {
   "cell_type": "code",
   "execution_count": 59,
   "id": "a8d43ace-fa06-4b63-9cfe-5163a9e8221c",
   "metadata": {},
   "outputs": [
    {
     "data": {
      "text/plain": [
       "<matplotlib.image.AxesImage at 0x7fb7a2d659a0>"
      ]
     },
     "execution_count": 59,
     "metadata": {},
     "output_type": "execute_result"
    },
    {
     "data": {
      "image/png": "[encoded data removed]",
      "text/plain": [
       "<Figure size 432x288 with 1 Axes>"
      ]
     },
     "metadata": {
      "needs_background": "light"
     },
     "output_type": "display_data"
    }
   ],
   "source": [
    "plt.imshow(data, cmap=\"hot\")"
   ]
  },
  {
   "cell_type": "code",
   "execution_count": 60,
   "id": "c96afb16-34f4-428d-bdeb-fbaba629f9a4",
   "metadata": {},
   "outputs": [
    {
     "data": {
      "text/plain": [
       "<matplotlib.image.AxesImage at 0x7fb7a2d40910>"
      ]
     },
     "execution_count": 60,
     "metadata": {},
     "output_type": "execute_result"
    },
    {
     "data": {
      "image/png": "[encoded data removed]",
      "text/plain": [
       "<Figure size 432x288 with 1 Axes>"
      ]
     },
     "metadata": {
      "needs_background": "light"
     },
     "output_type": "display_data"
    }
   ],
   "source": [
    "plt.imshow(data, cmap=\"gray\")"
   ]
  },
  {
   "cell_type": "code",
   "execution_count": 61,
   "id": "6092af65-dab8-474c-a61e-0c43b88c8da6",
   "metadata": {},
   "outputs": [
    {
     "name": "stdout",
     "output_type": "stream",
     "text": [
      "odds are: [1, 3, 5, 7]\n"
     ]
    }
   ],
   "source": [
    "odds = [1, 3, 5, 7]\n",
    "print(\"odds are:\", odds) "
   ]
  },
  {
   "cell_type": "code",
   "execution_count": 62,
   "id": "ae467bcb-6653-4332-84a2-d0e8b02b91ed",
   "metadata": {},
   "outputs": [
    {
     "name": "stdout",
     "output_type": "stream",
     "text": [
      "first 1\n",
      "last 7\n"
     ]
    }
   ],
   "source": [
    "print(\"first\", odds[0])\n",
    "print(\"last\", odds[-1])"
   ]
  },
  {
   "cell_type": "code",
   "execution_count": 63,
   "id": "1c54545a-8723-4c5d-a311-5ebe07ee86b4",
   "metadata": {},
   "outputs": [
    {
     "name": "stdout",
     "output_type": "stream",
     "text": [
      "names originally ['Curie', 'Turing', 'Darwing']\n",
      "corrected names ['Curie', 'Turing', 'Darwin']\n"
     ]
    }
   ],
   "source": [
    "names = [\"Curie\", \"Turing\", \"Darwing\"]\n",
    "print(\"names originally\", names)\n",
    "names[2] = \"Darwin\"\n",
    "print(\"corrected names\", names)"
   ]
  },
  {
   "cell_type": "code",
   "execution_count": 64,
   "id": "f9ceb2ef-16f3-44c1-ba9f-ad50043824a7",
   "metadata": {},
   "outputs": [
    {
     "ename": "TypeError",
     "evalue": "'str' object does not support item assignment",
     "output_type": "error",
     "traceback": [
      "\u001b[0;31m---------------------------------------------------------------------------\u001b[0m",
      "\u001b[0;31mTypeError\u001b[0m                                 Traceback (most recent call last)",
      "\u001b[0;32m/tmp/ipykernel_3402439/2005453669.py\u001b[0m in \u001b[0;36m<module>\u001b[0;34m\u001b[0m\n\u001b[1;32m      1\u001b[0m \u001b[0mname\u001b[0m \u001b[0;34m=\u001b[0m \u001b[0;34m\"Darwin\"\u001b[0m\u001b[0;34m\u001b[0m\u001b[0;34m\u001b[0m\u001b[0m\n\u001b[0;32m----> 2\u001b[0;31m \u001b[0mname\u001b[0m\u001b[0;34m[\u001b[0m\u001b[0;36m0\u001b[0m\u001b[0;34m]\u001b[0m \u001b[0;34m=\u001b[0m \u001b[0;34m\"d\"\u001b[0m\u001b[0;34m\u001b[0m\u001b[0;34m\u001b[0m\u001b[0m\n\u001b[0m",
      "\u001b[0;31mTypeError\u001b[0m: 'str' object does not support item assignment"
     ]
    }
   ],
   "source": [
    "name = \"Darwin\"\n",
    "name[0] = \"d\" "
   ]
  },
  {
   "cell_type": "code",
   "execution_count": 65,
   "id": "d739d8c0-fd58-430b-a6b7-d662b90253cb",
   "metadata": {},
   "outputs": [
    {
     "name": "stdout",
     "output_type": "stream",
     "text": [
      "['peppers', 'onions', 'cilantro', 'tomatoes']\n"
     ]
    }
   ],
   "source": [
    "salsa = [\"peppers\", \"onions\", \"cilantro\", \"tomatoes\"]\n",
    "print(salsa)"
   ]
  },
  {
   "cell_type": "code",
   "execution_count": 66,
   "id": "e795bc90-f524-43ca-8679-48d2b328ffac",
   "metadata": {},
   "outputs": [
    {
     "name": "stdout",
     "output_type": "stream",
     "text": [
      "['peppers', 'onions', 'cilantro', 'tomatoes']\n"
     ]
    }
   ],
   "source": [
    "my_salsa = salsa\n",
    "print(my_salsa)"
   ]
  },
  {
   "cell_type": "code",
   "execution_count": 67,
   "id": "e15954b2-26ba-41b1-9033-95452f208036",
   "metadata": {},
   "outputs": [
    {
     "name": "stdout",
     "output_type": "stream",
     "text": [
      "['jalapenos', 'onions', 'cilantro', 'tomatoes']\n"
     ]
    }
   ],
   "source": [
    "salsa[0] = \"jalapenos\"\n",
    "print(salsa)"
   ]
  },
  {
   "cell_type": "code",
   "execution_count": 68,
   "id": "61202d9f-e074-4d12-9695-938d83779d5e",
   "metadata": {},
   "outputs": [
    {
     "name": "stdout",
     "output_type": "stream",
     "text": [
      "['jalapenos', 'onions', 'cilantro', 'tomatoes']\n"
     ]
    }
   ],
   "source": [
    "print(my_salsa)"
   ]
  },
  {
   "cell_type": "code",
   "execution_count": 69,
   "id": "2a388ea0-733e-481c-8dec-05ffa1ebe41d",
   "metadata": {},
   "outputs": [
    {
     "name": "stdout",
     "output_type": "stream",
     "text": [
      "['jalapenos', 'onions', 'something', 'tomatoes']\n"
     ]
    }
   ],
   "source": [
    "my_salsa[2] = \"something\"\n",
    "print(my_salsa)"
   ]
  },
  {
   "cell_type": "code",
   "execution_count": 70,
   "id": "be823d20-5f0f-48ab-8657-2b9b941f78f1",
   "metadata": {},
   "outputs": [
    {
     "name": "stdout",
     "output_type": "stream",
     "text": [
      "['jalapenos', 'onions', 'something', 'tomatoes']\n"
     ]
    }
   ],
   "source": [
    "print(salsa)"
   ]
  },
  {
   "cell_type": "code",
   "execution_count": 71,
   "id": "cb3e73c8-d98a-47b4-9a2d-2ba5f143bd0c",
   "metadata": {},
   "outputs": [],
   "source": [
    "salsa_copy = list(salsa)"
   ]
  },
  {
   "cell_type": "code",
   "execution_count": 72,
   "id": "b3b149ab-03d2-4c2d-8a16-f8cb6f29ba95",
   "metadata": {},
   "outputs": [
    {
     "name": "stdout",
     "output_type": "stream",
     "text": [
      "['jalapenos', 'onions', 'something', 'tomatoes']\n"
     ]
    }
   ],
   "source": [
    "print(salsa_copy)"
   ]
  },
  {
   "cell_type": "code",
   "execution_count": 73,
   "id": "d2874299-2429-4581-9570-9521733380f0",
   "metadata": {},
   "outputs": [
    {
     "name": "stdout",
     "output_type": "stream",
     "text": [
      "['hot peppers', 'onions', 'something', 'tomatoes']\n",
      "['jalapenos', 'onions', 'something', 'tomatoes']\n"
     ]
    }
   ],
   "source": [
    "salsa[0] = \"hot peppers\"\n",
    "print(salsa)\n",
    "print(salsa_copy)"
   ]
  },
  {
   "cell_type": "code",
   "execution_count": 74,
   "id": "59a908dd-23b2-42a9-8293-65c6ca7fc505",
   "metadata": {},
   "outputs": [
    {
     "name": "stdout",
     "output_type": "stream",
     "text": [
      "[['onions', 'garlic'], ['milk', 'cheese', 'joghurt']]\n"
     ]
    }
   ],
   "source": [
    "shopping_list = [[\"onions\", \"garlic\"], [\"milk\", \"cheese\", \"joghurt\"]]\n",
    "print(shopping_list)"
   ]
  },
  {
   "cell_type": "code",
   "execution_count": 75,
   "id": "cf42d846-2057-4eab-88b8-8e5e37c2a638",
   "metadata": {},
   "outputs": [
    {
     "name": "stdout",
     "output_type": "stream",
     "text": [
      "['raphaela', 31, 160.5]\n"
     ]
    }
   ],
   "source": [
    "personal_info = [\"raphaela\", 31, 160.5]\n",
    "print(personal_info)"
   ]
  },
  {
   "cell_type": "code",
   "execution_count": 76,
   "id": "62130303-0f2a-46c3-8862-ebb92494ef75",
   "metadata": {},
   "outputs": [
    {
     "name": "stdout",
     "output_type": "stream",
     "text": [
      "raphaelaheil\n"
     ]
    }
   ],
   "source": [
    "name = \"raphaela\"\n",
    "last_name =\"heil\"\n",
    "print(name + last_name)"
   ]
  },
  {
   "cell_type": "code",
   "execution_count": 77,
   "id": "ffaae4fb-f852-4c4c-a2c0-fc2bf9989108",
   "metadata": {},
   "outputs": [
    {
     "name": "stdout",
     "output_type": "stream",
     "text": [
      "[['onions', 'garlic'], ['milk', 'cheese', 'joghurt'], 'raphaela', 31, 160.5]\n"
     ]
    }
   ],
   "source": [
    "print(shopping_list + personal_info)"
   ]
  },
  {
   "cell_type": "code",
   "execution_count": 78,
   "id": "f095d389-46ec-4702-bf8a-078f3046ba2f",
   "metadata": {},
   "outputs": [
    {
     "name": "stdout",
     "output_type": "stream",
     "text": [
      "['hot peppers', 'onions', 'something', 'tomatoes']\n"
     ]
    }
   ],
   "source": [
    "print(salsa)"
   ]
  },
  {
   "cell_type": "code",
   "execution_count": 79,
   "id": "9d4c0aee-4907-48ed-823d-8571b29a3234",
   "metadata": {},
   "outputs": [
    {
     "name": "stdout",
     "output_type": "stream",
     "text": [
      "['hot peppers', 'onions', 'something', 'tomatoes', 'garlic']\n"
     ]
    }
   ],
   "source": [
    "salsa.append(\"garlic\")\n",
    "print(salsa)"
   ]
  },
  {
   "cell_type": "code",
   "execution_count": 80,
   "id": "a21f0b72-bc73-4ad0-a57e-64b225fab1eb",
   "metadata": {},
   "outputs": [
    {
     "name": "stdout",
     "output_type": "stream",
     "text": [
      "['onions', 'something', 'tomatoes', 'garlic']\n"
     ]
    }
   ],
   "source": [
    "salsa.pop(0)\n",
    "print(salsa)"
   ]
  },
  {
   "cell_type": "code",
   "execution_count": 82,
   "id": "5b2566d6-2725-479f-9eeb-ca476b247927",
   "metadata": {},
   "outputs": [
    {
     "name": "stdout",
     "output_type": "stream",
     "text": [
      "['garlic', 'tomatoes', 'something', 'onions']\n"
     ]
    }
   ],
   "source": [
    "salsa.reverse()\n",
    "print(salsa)"
   ]
  },
  {
   "cell_type": "code",
   "execution_count": 83,
   "id": "67593d2e-30c4-4d7b-9df0-3f56abeb4256",
   "metadata": {},
   "outputs": [
    {
     "name": "stdout",
     "output_type": "stream",
     "text": [
      "[2, 3, 4]\n"
     ]
    }
   ],
   "source": [
    "chromosomes = [\"X\", \"Y\", 2, 3, 4]\n",
    "autosomes = chromosomes[2:5]\n",
    "print(autosomes)"
   ]
  },
  {
   "cell_type": "code",
   "execution_count": 84,
   "id": "d83477c9-94f9-4e5e-b506-15ed81683c56",
   "metadata": {},
   "outputs": [
    {
     "name": "stdout",
     "output_type": "stream",
     "text": [
      "[['onions', 'garlic'], ['milk', 'cheese', 'joghurt']]\n"
     ]
    }
   ],
   "source": [
    "print(shopping_list)"
   ]
  },
  {
   "cell_type": "code",
   "execution_count": 85,
   "id": "d0efaedf-e936-4d8f-a719-2d0f7b5cd0f0",
   "metadata": {},
   "outputs": [
    {
     "data": {
      "text/plain": [
       "'cheese'"
      ]
     },
     "execution_count": 85,
     "metadata": {},
     "output_type": "execute_result"
    }
   ],
   "source": [
    "shopping_list[1][1]"
   ]
  },
  {
   "cell_type": "code",
   "execution_count": 86,
   "id": "623ee51a-007b-4764-a0d6-1ddfbefe4f72",
   "metadata": {},
   "outputs": [],
   "source": [
    "name = 'raphaela'"
   ]
  },
  {
   "cell_type": "code",
   "execution_count": 87,
   "id": "1293f668-ee1d-4b08-99dc-b0a95a58eba0",
   "metadata": {},
   "outputs": [],
   "source": [
    "beatles = \"In an octopus's garden in the shade\""
   ]
  },
  {
   "cell_type": "code",
   "execution_count": 89,
   "id": "aef85ee9-d4ee-4b7c-9ab1-1a47a3559638",
   "metadata": {},
   "outputs": [],
   "source": [
    "long_text = \"\"\"\n",
    "asdas\n",
    "asdas\n",
    "asds\"\"\""
   ]
  },
  {
   "cell_type": "code",
   "execution_count": 90,
   "id": "0af79c80-cc0a-4fcb-abdb-0624bbb90e0d",
   "metadata": {},
   "outputs": [
    {
     "data": {
      "text/plain": [
       "'\\nasdas\\nasdas\\nasds'"
      ]
     },
     "execution_count": 90,
     "metadata": {},
     "output_type": "execute_result"
    }
   ],
   "source": [
    "long_text"
   ]
  },
  {
   "cell_type": "code",
   "execution_count": 91,
   "id": "0dfa4130-e78a-49c0-bec2-f38a177af83c",
   "metadata": {},
   "outputs": [
    {
     "name": "stdout",
     "output_type": "stream",
     "text": [
      "[2, 7, 17, 29]\n"
     ]
    }
   ],
   "source": [
    "primes = [2, 3, 5, 7, 11, 13, 17, 19, 23, 29, 31, 37]\n",
    "subset = primes[0:12:3]\n",
    "print(subset)"
   ]
  },
  {
   "cell_type": "code",
   "execution_count": 92,
   "id": "d6c1611c-ce4d-4cf0-ad12-ea31dbeab52f",
   "metadata": {},
   "outputs": [],
   "source": [
    "beatles = \"In an octopus's garden in the shade\""
   ]
  },
  {
   "cell_type": "code",
   "execution_count": 93,
   "id": "66482cbf-9f7a-4857-87ec-832e7787e6f6",
   "metadata": {},
   "outputs": [
    {
     "data": {
      "text/plain": [
       "'I notpssgre ntesae'"
      ]
     },
     "execution_count": 93,
     "metadata": {},
     "output_type": "execute_result"
    }
   ],
   "source": [
    "beatles[0:35:2]"
   ]
  },
  {
   "cell_type": "code",
   "execution_count": 94,
   "id": "283361de-37d4-4eee-841b-f51042f64a57",
   "metadata": {},
   "outputs": [
    {
     "data": {
      "text/plain": [
       "'I notpssgre ntesa'"
      ]
     },
     "execution_count": 94,
     "metadata": {},
     "output_type": "execute_result"
    }
   ],
   "source": [
    "beatles[0:-1:2]"
   ]
  },
  {
   "cell_type": "code",
   "execution_count": 95,
   "id": "19332d74-b604-4f3e-badf-b49db41ea86f",
   "metadata": {},
   "outputs": [
    {
     "data": {
      "text/plain": [
       "'I notpssgre ntesae'"
      ]
     },
     "execution_count": 95,
     "metadata": {},
     "output_type": "execute_result"
    }
   ],
   "source": [
    "beatles[::2]"
   ]
  },
  {
   "cell_type": "code",
   "execution_count": 96,
   "id": "8bc04214-0764-46cc-b63c-bf6d36b8dd0c",
   "metadata": {},
   "outputs": [],
   "source": [
    "odds = [1,3,5,7]"
   ]
  },
  {
   "cell_type": "code",
   "execution_count": 98,
   "id": "85992592-2f69-499b-a955-cb948cb225b1",
   "metadata": {},
   "outputs": [
    {
     "name": "stdout",
     "output_type": "stream",
     "text": [
      "Value 1\n",
      "Value 3\n",
      "5\n",
      "7\n"
     ]
    }
   ],
   "source": [
    "print(\"Value\", odds[0])\n",
    "print(\"Value\", odds[1])\n",
    "print(odds[2])\n",
    "print(odds[3])"
   ]
  },
  {
   "cell_type": "code",
   "execution_count": 99,
   "id": "d091b31c-4522-4b7c-bc46-d3e5a1183a64",
   "metadata": {},
   "outputs": [
    {
     "name": "stdout",
     "output_type": "stream",
     "text": [
      "1\n",
      "3\n",
      "5\n",
      "7\n",
      "end\n"
     ]
    }
   ],
   "source": [
    "for num in odds:\n",
    "    print(num)\n",
    "print(\"end\")"
   ]
  },
  {
   "cell_type": "code",
   "execution_count": 102,
   "id": "3d51a236-3019-456b-b116-d012e3a5483b",
   "metadata": {},
   "outputs": [
    {
     "name": "stdout",
     "output_type": "stream",
     "text": [
      "1\n",
      "hello\n",
      "3\n",
      "hello\n",
      "5\n",
      "hello\n",
      "7\n",
      "hello\n"
     ]
    }
   ],
   "source": [
    "for num in odds:\n",
    "    print(num)\n",
    "    print(\"hello\")"
   ]
  },
  {
   "cell_type": "code",
   "execution_count": 101,
   "id": "472e93b1-f3ac-47e2-b66c-6af30b811b04",
   "metadata": {},
   "outputs": [
    {
     "name": "stdout",
     "output_type": "stream",
     "text": [
      "2\n",
      "5\n",
      "11\n",
      "17\n",
      "23\n",
      "31\n"
     ]
    }
   ],
   "source": [
    "primes = [2, 3, 5, 7, 11, 13, 17, 19, 23, 29, 31, 37]\n",
    "for num in primes[::2]:\n",
    "    print(num)"
   ]
  },
  {
   "cell_type": "code",
   "execution_count": 103,
   "id": "39310ded-ed5b-4fde-8e60-ca54698cbc26",
   "metadata": {},
   "outputs": [
    {
     "name": "stdout",
     "output_type": "stream",
     "text": [
      "3\n"
     ]
    }
   ],
   "source": [
    "length = 0\n",
    "names = [\"Curie\", \"Turing\", \"Darwin\"]\n",
    "for name in names:\n",
    "    length = length + 1\n",
    "print(length)"
   ]
  },
  {
   "cell_type": "code",
   "execution_count": 104,
   "id": "a4a711d1-8c25-432f-b891-e88f0f2a7b02",
   "metadata": {},
   "outputs": [
    {
     "data": {
      "text/plain": [
       "3"
      ]
     },
     "execution_count": 104,
     "metadata": {},
     "output_type": "execute_result"
    }
   ],
   "source": [
    "len(names)"
   ]
  },
  {
   "cell_type": "code",
   "execution_count": 105,
   "id": "a227db4d-a3d2-4edc-8af9-f98b1942c5a1",
   "metadata": {},
   "outputs": [
    {
     "data": {
      "text/plain": [
       "35"
      ]
     },
     "execution_count": 105,
     "metadata": {},
     "output_type": "execute_result"
    }
   ],
   "source": [
    "len(beatles)"
   ]
  },
  {
   "cell_type": "code",
   "execution_count": 106,
   "id": "bb612bca-580c-437f-8ba1-53ecd31762ed",
   "metadata": {},
   "outputs": [
    {
     "name": "stdout",
     "output_type": "stream",
     "text": [
      "Curie\n",
      "turing\n",
      "darwin\n",
      "name after loop darwin\n"
     ]
    }
   ],
   "source": [
    "name = \"Rosalind\"\n",
    "for name in [\"Curie\", \"turing\", \"darwin\"]:\n",
    "    print(name)\n",
    "print(\"name after loop\", name)"
   ]
  },
  {
   "cell_type": "code",
   "execution_count": 107,
   "id": "3a9d3fac-097b-494b-b126-631c7695a6e8",
   "metadata": {},
   "outputs": [
    {
     "name": "stdout",
     "output_type": "stream",
     "text": [
      "[['onions', 'garlic'], ['milk', 'cheese', 'joghurt']]\n"
     ]
    }
   ],
   "source": [
    "print(shopping_list)"
   ]
  },
  {
   "cell_type": "code",
   "execution_count": 108,
   "id": "b79bbbde-5fd2-465a-af7e-9743add8a44b",
   "metadata": {},
   "outputs": [
    {
     "name": "stdout",
     "output_type": "stream",
     "text": [
      "['onions', 'garlic']\n",
      "['milk', 'cheese', 'joghurt']\n"
     ]
    }
   ],
   "source": [
    "for x in shopping_list:\n",
    "    print(x)"
   ]
  },
  {
   "cell_type": "code",
   "execution_count": 109,
   "id": "4867786f-7cd3-4df6-b234-a9d4f69dce7a",
   "metadata": {},
   "outputs": [
    {
     "name": "stdout",
     "output_type": "stream",
     "text": [
      "onions\n",
      "garlic\n",
      "milk\n",
      "cheese\n",
      "joghurt\n"
     ]
    }
   ],
   "source": [
    "for outer in shopping_list:\n",
    "    for inner in outer:\n",
    "        print(inner)"
   ]
  },
  {
   "cell_type": "code",
   "execution_count": 110,
   "id": "458e866b-10ed-454a-852f-7411d84595b5",
   "metadata": {},
   "outputs": [],
   "source": [
    "numbers = [3,4,5]\n",
    "total = 0\n",
    "for num in numbers:\n",
    "    total += num # total = total + num"
   ]
  },
  {
   "cell_type": "code",
   "execution_count": 111,
   "id": "02dd3940-856f-4840-8165-825922f99796",
   "metadata": {},
   "outputs": [
    {
     "data": {
      "text/plain": [
       "12"
      ]
     },
     "execution_count": 111,
     "metadata": {},
     "output_type": "execute_result"
    }
   ],
   "source": [
    "total"
   ]
  },
  {
   "cell_type": "code",
   "execution_count": 112,
   "id": "839efa12-300d-4cc8-a759-3c6461a916b3",
   "metadata": {},
   "outputs": [
    {
     "name": "stdout",
     "output_type": "stream",
     "text": [
      "[3, 4, 5, 3, 4, 5]\n"
     ]
    }
   ],
   "source": [
    "numbers = [3,4,5]\n",
    "print(numbers * 2)"
   ]
  },
  {
   "cell_type": "code",
   "execution_count": 114,
   "id": "d2eba306-b4de-418b-bbc3-5702632ab095",
   "metadata": {},
   "outputs": [
    {
     "name": "stdout",
     "output_type": "stream",
     "text": [
      "[12, 16, 20]\n"
     ]
    }
   ],
   "source": [
    "for index in range(len(numbers)):\n",
    "    numbers[index] *= 2\n",
    "print(numbers)"
   ]
  },
  {
   "cell_type": "code",
   "execution_count": 116,
   "id": "9d6ae925-2217-49a8-badf-124d9a270c01",
   "metadata": {},
   "outputs": [
    {
     "data": {
      "text/plain": [
       "array([2, 4, 6])"
      ]
     },
     "execution_count": 116,
     "metadata": {},
     "output_type": "execute_result"
    }
   ],
   "source": [
    "numbers=[1,2,3]\n",
    "numpy.multiply(numbers, 2)"
   ]
  },
  {
   "cell_type": "code",
   "execution_count": 5,
   "id": "73a61069-f927-40cf-8acc-0098c1ce02e1",
   "metadata": {},
   "outputs": [],
   "source": [
    "import glob\n",
    "import numpy\n",
    "import matplotlib.pyplot as plt"
   ]
  },
  {
   "cell_type": "code",
   "execution_count": 2,
   "id": "fb8dfb59-38ad-46d1-bb5b-78578b6c5bab",
   "metadata": {},
   "outputs": [
    {
     "name": "stdout",
     "output_type": "stream",
     "text": [
      "['data/inflammation-09.csv', 'data/inflammation-10.csv', 'data/inflammation-04.csv', 'data/inflammation-07.csv', 'data/inflammation-05.csv', 'data/inflammation-12.csv', 'data/inflammation-08.csv', 'data/inflammation-11.csv', 'data/inflammation-02.csv', 'data/inflammation-01.csv', 'data/inflammation-06.csv', 'data/inflammation-03.csv']\n"
     ]
    }
   ],
   "source": [
    "print(glob.glob(\"data/inflammation*.csv\"))"
   ]
  },
  {
   "cell_type": "code",
   "execution_count": 3,
   "id": "1c908b60-caf7-42e8-ac6c-16205db81985",
   "metadata": {},
   "outputs": [
    {
     "name": "stdout",
     "output_type": "stream",
     "text": [
      "['data/inflammation-01.csv', 'data/inflammation-02.csv', 'data/inflammation-03.csv', 'data/inflammation-04.csv', 'data/inflammation-05.csv', 'data/inflammation-06.csv', 'data/inflammation-07.csv', 'data/inflammation-08.csv', 'data/inflammation-09.csv', 'data/inflammation-10.csv', 'data/inflammation-11.csv', 'data/inflammation-12.csv']\n"
     ]
    }
   ],
   "source": [
    "filenames = sorted(glob.glob(\"data/inflammation*.csv\"))\n",
    "print(filenames)"
   ]
  },
  {
   "cell_type": "code",
   "execution_count": 7,
   "id": "0e94e5b3-03f3-4793-903f-b5b41ee4617b",
   "metadata": {},
   "outputs": [
    {
     "name": "stdout",
     "output_type": "stream",
     "text": [
      "data/inflammation-01.csv\n",
      "data/inflammation-02.csv\n",
      "data/inflammation-03.csv\n"
     ]
    },
    {
     "data": {
      "image/png": "[encoded data removed]",
      "text/plain": [
       "<Figure size 720x216 with 3 Axes>"
      ]
     },
     "metadata": {
      "needs_background": "light"
     },
     "output_type": "display_data"
    },
    {
     "data": {
      "image/png": "[encoded data removed]",
      "text/plain": [
       "<Figure size 720x216 with 3 Axes>"
      ]
     },
     "metadata": {
      "needs_background": "light"
     },
     "output_type": "display_data"
    },
    {
     "data": {
      "image/png": "[encoded data removed]",
      "text/plain": [
       "<Figure size 720x216 with 3 Axes>"
      ]
     },
     "metadata": {
      "needs_background": "light"
     },
     "output_type": "display_data"
    }
   ],
   "source": [
    "filenames = filenames[0:3]\n",
    "for filename in filenames:\n",
    "    print(filename)\n",
    "    \n",
    "    data = numpy.loadtxt(filename, delimiter=\",\")\n",
    "    \n",
    "    fig = plt.figure(figsize=(10,3))\n",
    "    \n",
    "    axes1 = fig.add_subplot(1,3,1) #number of rows, number of columns, index of subplot\n",
    "    axes2 = fig.add_subplot(1,3,2)\n",
    "    axes3 = fig.add_subplot(1,3,3)\n",
    "    \n",
    "    axes1.plot(numpy.mean(data, axis=0))\n",
    "    axes2.plot(numpy.min(data, axis=0))\n",
    "    axes3.plot(numpy.max(data, axis=0))\n",
    "    "
   ]
  },
  {
   "cell_type": "code",
   "execution_count": null,
   "id": "dcf93093-bddf-4d1d-a641-f637227c5e99",
   "metadata": {},
   "outputs": [],
   "source": []
  }
 ],
 "metadata": {
  "kernelspec": {
   "display_name": "Python 3 (ipykernel)",
   "language": "python",
   "name": "python3"
  },
  "language_info": {
   "codemirror_mode": {
    "name": "ipython",
    "version": 3
   },
   "file_extension": ".py",
   "mimetype": "text/x-python",
   "name": "python",
   "nbconvert_exporter": "python",
   "pygments_lexer": "ipython3",
   "version": "3.8.10"
  }
 },
 "nbformat": 4,
 "nbformat_minor": 5
}
